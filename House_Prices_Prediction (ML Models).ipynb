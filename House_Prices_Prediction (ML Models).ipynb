{
  "nbformat": 4,
  "nbformat_minor": 0,
  "metadata": {
    "colab": {
      "provenance": []
    },
    "kernelspec": {
      "name": "python3",
      "display_name": "Python 3"
    },
    "language_info": {
      "name": "python"
    }
  },
  "cells": [
    {
      "cell_type": "code",
      "source": [
        "# Import required libraries\n",
        "import pandas as pd\n",
        "import numpy as np\n",
        "from sklearn.model_selection import train_test_split\n",
        "from sklearn.preprocessing import LabelEncoder, MinMaxScaler\n",
        "from sklearn.metrics import mean_squared_error, r2_score\n",
        "from sklearn.linear_model import LinearRegression\n",
        "from sklearn.ensemble import RandomForestRegressor\n",
        "from sklearn.svm import SVR\n",
        "from sklearn.tree import DecisionTreeRegressor\n",
        "from sklearn.neighbors import KNeighborsRegressor\n",
        "from google.colab import drive\n"
      ],
      "metadata": {
        "id": "RA9XSFSiQEES"
      },
      "execution_count": 14,
      "outputs": []
    },
    {
      "cell_type": "code",
      "source": [
        "\n",
        "# Load the dataset\n",
        "data = pd.read_csv(\"Housing.csv\")"
      ],
      "metadata": {
        "id": "MRou6IyjnBZE"
      },
      "execution_count": 15,
      "outputs": []
    },
    {
      "cell_type": "code",
      "source": [
        "# Display the first few rows of the dataset\n",
        "print(\"First few rows of the dataset:\")\n",
        "print(data.head())"
      ],
      "metadata": {
        "colab": {
          "base_uri": "https://localhost:8080/"
        },
        "id": "lDkky3lGnC1S",
        "outputId": "351e97c0-d851-43de-eb2e-0153d452ad75"
      },
      "execution_count": 16,
      "outputs": [
        {
          "output_type": "stream",
          "name": "stdout",
          "text": [
            "First few rows of the dataset:\n",
            "      price  area  bedrooms  bathrooms  stories mainroad guestroom basement  \\\n",
            "0  13300000  7420         4          2        3      yes        no       no   \n",
            "1  12250000  8960         4          4        4      yes        no       no   \n",
            "2  12250000  9960         3          2        2      yes        no      yes   \n",
            "3  12215000  7500         4          2        2      yes        no      yes   \n",
            "4  11410000  7420         4          1        2      yes       yes      yes   \n",
            "\n",
            "  hotwaterheating airconditioning  parking prefarea furnishingstatus  \n",
            "0              no             yes        2      yes        furnished  \n",
            "1              no             yes        3       no        furnished  \n",
            "2              no              no        2      yes   semi-furnished  \n",
            "3              no             yes        3      yes        furnished  \n",
            "4              no             yes        2       no        furnished  \n"
          ]
        }
      ]
    },
    {
      "cell_type": "code",
      "source": [
        "\n",
        "# Step 1: Null Value Check and Handling\n",
        "print(\"\\nChecking for missing values:\")\n",
        "print(data.isnull().sum())  # Display number of missing values in each column"
      ],
      "metadata": {
        "colab": {
          "base_uri": "https://localhost:8080/"
        },
        "id": "WpUjGrhmnFiY",
        "outputId": "4a9e12a4-d5ec-4395-cdf3-b8c70d70027f"
      },
      "execution_count": 17,
      "outputs": [
        {
          "output_type": "stream",
          "name": "stdout",
          "text": [
            "\n",
            "Checking for missing values:\n",
            "price               0\n",
            "area                0\n",
            "bedrooms            0\n",
            "bathrooms           0\n",
            "stories             0\n",
            "mainroad            0\n",
            "guestroom           0\n",
            "basement            0\n",
            "hotwaterheating     0\n",
            "airconditioning     0\n",
            "parking             0\n",
            "prefarea            0\n",
            "furnishingstatus    0\n",
            "dtype: int64\n"
          ]
        }
      ]
    },
    {
      "cell_type": "code",
      "source": [
        "\n",
        "# Impute missing values (median for numerical, mode for categorical)\n",
        "data.fillna(data.median(numeric_only=True), inplace=True)  # Fill numerical columns with median\n",
        "data.fillna(data.mode().iloc[0], inplace=True)  # Fill categorical columns with mode"
      ],
      "metadata": {
        "id": "kAJXUZgznHez"
      },
      "execution_count": 18,
      "outputs": []
    },
    {
      "cell_type": "code",
      "source": [
        "\n",
        "print(\"\\nAfter handling missing values:\")\n",
        "print(data.isnull().sum())  # Confirm there are no missing values"
      ],
      "metadata": {
        "colab": {
          "base_uri": "https://localhost:8080/"
        },
        "id": "MFTCXqlNmyNp",
        "outputId": "014cfadc-c0a4-4840-a51f-afb8f979faf2"
      },
      "execution_count": 19,
      "outputs": [
        {
          "output_type": "stream",
          "name": "stdout",
          "text": [
            "\n",
            "After handling missing values:\n",
            "price               0\n",
            "area                0\n",
            "bedrooms            0\n",
            "bathrooms           0\n",
            "stories             0\n",
            "mainroad            0\n",
            "guestroom           0\n",
            "basement            0\n",
            "hotwaterheating     0\n",
            "airconditioning     0\n",
            "parking             0\n",
            "prefarea            0\n",
            "furnishingstatus    0\n",
            "dtype: int64\n"
          ]
        }
      ]
    },
    {
      "cell_type": "code",
      "source": [
        "# Step 2: Transform Categorical Variables to Numerical\n",
        "categorical_cols = data.select_dtypes(include=['object']).columns  # Identify categorical columns\n",
        "print(f\"\\nCategorical Columns: {categorical_cols}\")\n",
        "\n",
        "le = LabelEncoder()\n",
        "for col in categorical_cols:\n",
        "    data[col] = le.fit_transform(data[col])  # Encode categorical variables\n",
        "\n",
        "print(\"\\nData after encoding categorical values:\")\n",
        "print(data.head())"
      ],
      "metadata": {
        "colab": {
          "base_uri": "https://localhost:8080/"
        },
        "id": "2a_03azHm-2T",
        "outputId": "697b7e9c-76bd-43bd-f138-df60a57e79a8"
      },
      "execution_count": 20,
      "outputs": [
        {
          "output_type": "stream",
          "name": "stdout",
          "text": [
            "\n",
            "Categorical Columns: Index(['mainroad', 'guestroom', 'basement', 'hotwaterheating',\n",
            "       'airconditioning', 'prefarea', 'furnishingstatus'],\n",
            "      dtype='object')\n",
            "\n",
            "Data after encoding categorical values:\n",
            "      price  area  bedrooms  bathrooms  stories  mainroad  guestroom  \\\n",
            "0  13300000  7420         4          2        3         1          0   \n",
            "1  12250000  8960         4          4        4         1          0   \n",
            "2  12250000  9960         3          2        2         1          0   \n",
            "3  12215000  7500         4          2        2         1          0   \n",
            "4  11410000  7420         4          1        2         1          1   \n",
            "\n",
            "   basement  hotwaterheating  airconditioning  parking  prefarea  \\\n",
            "0         0                0                1        2         1   \n",
            "1         0                0                1        3         0   \n",
            "2         1                0                0        2         1   \n",
            "3         1                0                1        3         1   \n",
            "4         1                0                1        2         0   \n",
            "\n",
            "   furnishingstatus  \n",
            "0                 0  \n",
            "1                 0  \n",
            "2                 1  \n",
            "3                 0  \n",
            "4                 0  \n"
          ]
        }
      ]
    },
    {
      "cell_type": "code",
      "source": [
        "# Step 3: Normalize Numerical Features using Min-Max Normalization\n",
        "scaler = MinMaxScaler()\n",
        "numerical_cols = data.select_dtypes(include=['float64', 'int64']).columns\n",
        "data[numerical_cols] = scaler.fit_transform(data[numerical_cols])\n",
        "\n",
        "print(\"\\nData after Min-Max Normalization:\")\n",
        "print(data.head())\n"
      ],
      "metadata": {
        "colab": {
          "base_uri": "https://localhost:8080/"
        },
        "id": "Hc2NsLaUm8Iy",
        "outputId": "fbb0fea2-9167-48d5-f215-d44596743e02"
      },
      "execution_count": 21,
      "outputs": [
        {
          "output_type": "stream",
          "name": "stdout",
          "text": [
            "\n",
            "Data after Min-Max Normalization:\n",
            "      price      area  bedrooms  bathrooms   stories  mainroad  guestroom  \\\n",
            "0  1.000000  0.396564       0.6   0.333333  0.666667       1.0        0.0   \n",
            "1  0.909091  0.502405       0.6   1.000000  1.000000       1.0        0.0   \n",
            "2  0.909091  0.571134       0.4   0.333333  0.333333       1.0        0.0   \n",
            "3  0.906061  0.402062       0.6   0.333333  0.333333       1.0        0.0   \n",
            "4  0.836364  0.396564       0.6   0.000000  0.333333       1.0        1.0   \n",
            "\n",
            "   basement  hotwaterheating  airconditioning   parking  prefarea  \\\n",
            "0       0.0              0.0              1.0  0.666667       1.0   \n",
            "1       0.0              0.0              1.0  1.000000       0.0   \n",
            "2       1.0              0.0              0.0  0.666667       1.0   \n",
            "3       1.0              0.0              1.0  1.000000       1.0   \n",
            "4       1.0              0.0              1.0  0.666667       0.0   \n",
            "\n",
            "   furnishingstatus  \n",
            "0               0.0  \n",
            "1               0.0  \n",
            "2               0.5  \n",
            "3               0.0  \n",
            "4               0.0  \n"
          ]
        }
      ]
    },
    {
      "cell_type": "code",
      "source": [
        "# Step 4: Split Data into Training and Testing Sets\n",
        "X = data.drop(columns=['price'])  # Features\n",
        "y = data['price']  # Target variable\n",
        "\n",
        "X_train, X_test, y_train, y_test = train_test_split(X, y, test_size=0.2, random_state=42)\n",
        "print(\"\\nTraining and Testing Data Shapes:\")\n",
        "print(f\"X_train: {X_train.shape}, X_test: {X_test.shape}, y_train: {y_train.shape}, y_test: {y_test.shape}\")\n"
      ],
      "metadata": {
        "colab": {
          "base_uri": "https://localhost:8080/"
        },
        "id": "rxAW5gvunQvt",
        "outputId": "4bcedaf6-39f2-4df4-ac1c-c7b72018c970"
      },
      "execution_count": 22,
      "outputs": [
        {
          "output_type": "stream",
          "name": "stdout",
          "text": [
            "\n",
            "Training and Testing Data Shapes:\n",
            "X_train: (436, 12), X_test: (109, 12), y_train: (436,), y_test: (109,)\n"
          ]
        }
      ]
    },
    {
      "cell_type": "code",
      "source": [
        "# Step 5: Apply Regression Algorithms\n",
        "models = {\n",
        "    \"Linear Regression\": LinearRegression(),\n",
        "    \"Random Forest\": RandomForestRegressor(n_estimators=100, random_state=42),\n",
        "    \"Support Vector Regressor (SVR)\": SVR(kernel='rbf'),\n",
        "    \"Decision Tree\": DecisionTreeRegressor(random_state=42),\n",
        "    \"K-Nearest Neighbors (KNN)\": KNeighborsRegressor(n_neighbors=5)\n",
        "}\n",
        "# Train and evaluate each model\n",
        "best_model = None\n",
        "best_r2 = -np.inf\n",
        "\n",
        "print(\"\\nModel Evaluation Results:\")\n",
        "for name, model in models.items():\n",
        "    model.fit(X_train, y_train)  # Train the model\n",
        "    y_pred = model.predict(X_test)  # Predict on the test set\n",
        "    # Calculate metrics\n",
        "    mse = mean_squared_error(y_test, y_pred)\n",
        "    r2 = r2_score(y_test, y_pred)\n",
        "\n",
        "    print(f\"\\n{name}:\")\n",
        "    print(f\"Mean Squared Error (MSE): {mse:.4f}\")\n",
        "    print(f\"R-squared (R2): {r2:.4f}\")\n",
        "\n",
        "    # Track the best model based on R2 score\n",
        "    if r2 > best_r2:\n",
        "        best_r2 = r2\n",
        "        best_model = name\n",
        "\n",
        "print(f\"\\nBest Model: {best_model} with R2 Score: {best_r2:.4f}\")\n"
      ],
      "metadata": {
        "colab": {
          "base_uri": "https://localhost:8080/"
        },
        "id": "sB4Xkvgqm2Wt",
        "outputId": "c39ebf57-446d-45b2-8a19-829d8bfe1554"
      },
      "execution_count": 23,
      "outputs": [
        {
          "output_type": "stream",
          "name": "stdout",
          "text": [
            "\n",
            "Model Evaluation Results:\n",
            "\n",
            "Linear Regression:\n",
            "Mean Squared Error (MSE): 0.0133\n",
            "R-squared (R2): 0.6495\n",
            "\n",
            "Random Forest:\n",
            "Mean Squared Error (MSE): 0.0147\n",
            "R-squared (R2): 0.6133\n",
            "\n",
            "Support Vector Regressor (SVR):\n",
            "Mean Squared Error (MSE): 0.0132\n",
            "R-squared (R2): 0.6524\n",
            "\n",
            "Decision Tree:\n",
            "Mean Squared Error (MSE): 0.0199\n",
            "R-squared (R2): 0.4758\n",
            "\n",
            "K-Nearest Neighbors (KNN):\n",
            "Mean Squared Error (MSE): 0.0190\n",
            "R-squared (R2): 0.4991\n",
            "\n",
            "Best Model: Support Vector Regressor (SVR) with R2 Score: 0.6524\n"
          ]
        }
      ]
    },
    {
      "cell_type": "code",
      "source": [
        "total_price = data['price'].sum()\n",
        "print(f\"\\nThe total price from the dataset is: {total_price}\")\n"
      ],
      "metadata": {
        "colab": {
          "base_uri": "https://localhost:8080/"
        },
        "id": "ubUe8T8uTW6V",
        "outputId": "8b0102eb-feca-4544-b97b-a1cc8a448574"
      },
      "execution_count": 24,
      "outputs": [
        {
          "output_type": "stream",
          "name": "stdout",
          "text": [
            "\n",
            "The total price from the dataset is: 142.3478303030303\n"
          ]
        }
      ]
    }
  ]
}